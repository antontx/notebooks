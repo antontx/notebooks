{
  "cells": [
    {
      "cell_type": "markdown",
      "metadata": {
        "colab_type": "text",
        "id": "view-in-github"
      },
      "source": [
        "<a href=\"https://colab.research.google.com/github/antontx/notebooks/blob/master/MNIST.ipynb\" target=\"_parent\"><img src=\"https://colab.research.google.com/assets/colab-badge.svg\" alt=\"Open In Colab\"/></a>"
      ]
    },
    {
      "cell_type": "markdown",
      "metadata": {
        "id": "EAMx0t5HvcvX"
      },
      "source": [
        "### Imports"
      ]
    },
    {
      "cell_type": "code",
      "execution_count": 2,
      "metadata": {
        "id": "hvl4bnU6ttQr"
      },
      "outputs": [],
      "source": [
        "import numpy as np\n",
        "import matplotlib.pyplot as plt\n",
        "%matplotlib inline \n",
        "import time\n",
        "from typing import List\n",
        "import pandas as pd\n",
        "from IPython.display import display, HTML"
      ]
    },
    {
      "cell_type": "markdown",
      "metadata": {
        "id": "1lcdz3NUK9I6"
      },
      "source": [
        "### reading the data\n",
        "_images: list of images in binary\n",
        "\n",
        "_labels: array of bytestrings that represent the numbers $0-9$\n",
        "\n",
        "- ```\n",
        "b'\\x03'\n",
        "```\n",
        "    - $b\"[..]\" →$ Bytestring\n",
        "    - $\\backslash x→$ escape sequence: following characters represent a __hexadecimal value__\n",
        "    - $03→$ hexadecimal notation of $3$"
      ]
    },
    {
      "cell_type": "code",
      "execution_count": 3,
      "metadata": {
        "id": "7C861Q8kvnLd"
      },
      "outputs": [],
      "source": [
        "training_images = \"/content/drive/MyDrive/DEV/digit_recognition/MNIST_dataset/train-images.idx3-ubyte\"\n",
        "training_labels = \"/content/drive/MyDrive/DEV/digit_recognition/MNIST_dataset/train-labels.idx1-ubyte\" \n",
        "training_csv = \"/content/drive/MyDrive/DEV/digit_recognition/csv/training.csv\"\n",
        "TRAINING_SIZE = 60000\n",
        "\n",
        "test_images = \"/content/drive/MyDrive/DEV/digit_recognition/MNIST_dataset/t10k-images.idx3-ubyte\"\n",
        "test_labels = \"/content/drive/MyDrive/DEV/digit_recognition/MNIST_dataset/t10k-labels.idx1-ubyte\"\n",
        "test_csv = \"/content/drive/MyDrive/DEV/digit_recognition/csv/testing.csv\"\n",
        "TEST_SIZE = 10000 "
      ]
    },
    {
      "cell_type": "markdown",
      "metadata": {
        "id": "ttyDvE2VMedL"
      },
      "source": [
        "### converting the data & saving/ caching it into csv"
      ]
    },
    {
      "cell_type": "code",
      "execution_count": 4,
      "metadata": {
        "id": "O-gBHb9mMkGd"
      },
      "outputs": [],
      "source": [
        "def convert(labels, images, csvf, size) -> List:\n",
        "  labelf = open(labels, \"rb\") #rb -> reading the file as binary\n",
        "  imgf = open(images, \"rb\")\n",
        "  csvf = open(csvf, \"w\")\n",
        "\n",
        "  #start locations of the actual data\n",
        "  labelf.read(8) \n",
        "  imgf.read(16)\n",
        "\n",
        "  n = 28\n",
        "\n",
        "  images = []\n",
        "  for i in range(size):\n",
        "    label = int.from_bytes(labelf.read(1),byteorder=\"big\")\n",
        "\n",
        "    pixels = np.zeros((n,n))\n",
        "    for row in range(n):\n",
        "      for column in range(n):\n",
        "        pixels[row][column] = int.from_bytes(imgf.read(1),byteorder=\"big\")\n",
        "        \n",
        "    \n",
        "    images.append([label,pixels])\n",
        "  \n",
        "  # for image in images:\n",
        "  #   image_string = \",\".join(str(value) for value in image[1])\n",
        "  #   csvf.write(f\"{str(image[0])},{image_string}\\n\")\n",
        "\n",
        "  labelf.close()\n",
        "  imgf.close()\n",
        "  csvf.close()\n",
        "\n",
        "  return images\n",
        "    \n"
      ]
    },
    {
      "cell_type": "code",
      "execution_count": 5,
      "metadata": {
        "id": "im-_CArLOZq1"
      },
      "outputs": [
        {
          "ename": "FileNotFoundError",
          "evalue": "[Errno 2] No such file or directory: '/content/drive/MyDrive/DEV/digit_recognition/MNIST_dataset/t10k-labels.idx1-ubyte'",
          "output_type": "error",
          "traceback": [
            "\u001b[1;31m---------------------------------------------------------------------------\u001b[0m",
            "\u001b[1;31mFileNotFoundError\u001b[0m                         Traceback (most recent call last)",
            "Cell \u001b[1;32mIn[5], line 1\u001b[0m\n\u001b[1;32m----> 1\u001b[0m test_data \u001b[39m=\u001b[39m convert(test_labels, test_images,test_csv,TEST_SIZE)\n\u001b[0;32m      2\u001b[0m training_data \u001b[39m=\u001b[39m convert(training_labels,training_images,training_csv,TRAINING_SIZE)\n",
            "Cell \u001b[1;32mIn[4], line 2\u001b[0m, in \u001b[0;36mconvert\u001b[1;34m(labels, images, csvf, size)\u001b[0m\n\u001b[0;32m      1\u001b[0m \u001b[39mdef\u001b[39;00m \u001b[39mconvert\u001b[39m(labels, images, csvf, size) \u001b[39m-\u001b[39m\u001b[39m>\u001b[39m List:\n\u001b[1;32m----> 2\u001b[0m   labelf \u001b[39m=\u001b[39m \u001b[39mopen\u001b[39;49m(labels, \u001b[39m\"\u001b[39;49m\u001b[39mrb\u001b[39;49m\u001b[39m\"\u001b[39;49m) \u001b[39m#rb -> reading the file as binary\u001b[39;00m\n\u001b[0;32m      3\u001b[0m   imgf \u001b[39m=\u001b[39m \u001b[39mopen\u001b[39m(images, \u001b[39m\"\u001b[39m\u001b[39mrb\u001b[39m\u001b[39m\"\u001b[39m)\n\u001b[0;32m      4\u001b[0m   csvf \u001b[39m=\u001b[39m \u001b[39mopen\u001b[39m(csvf, \u001b[39m\"\u001b[39m\u001b[39mw\u001b[39m\u001b[39m\"\u001b[39m)\n",
            "File \u001b[1;32m~\\AppData\\Roaming\\Python\\Python311\\site-packages\\IPython\\core\\interactiveshell.py:282\u001b[0m, in \u001b[0;36m_modified_open\u001b[1;34m(file, *args, **kwargs)\u001b[0m\n\u001b[0;32m    275\u001b[0m \u001b[39mif\u001b[39;00m file \u001b[39min\u001b[39;00m {\u001b[39m0\u001b[39m, \u001b[39m1\u001b[39m, \u001b[39m2\u001b[39m}:\n\u001b[0;32m    276\u001b[0m     \u001b[39mraise\u001b[39;00m \u001b[39mValueError\u001b[39;00m(\n\u001b[0;32m    277\u001b[0m         \u001b[39mf\u001b[39m\u001b[39m\"\u001b[39m\u001b[39mIPython won\u001b[39m\u001b[39m'\u001b[39m\u001b[39mt let you open fd=\u001b[39m\u001b[39m{\u001b[39;00mfile\u001b[39m}\u001b[39;00m\u001b[39m by default \u001b[39m\u001b[39m\"\u001b[39m\n\u001b[0;32m    278\u001b[0m         \u001b[39m\"\u001b[39m\u001b[39mas it is likely to crash IPython. If you know what you are doing, \u001b[39m\u001b[39m\"\u001b[39m\n\u001b[0;32m    279\u001b[0m         \u001b[39m\"\u001b[39m\u001b[39myou can use builtins\u001b[39m\u001b[39m'\u001b[39m\u001b[39m open.\u001b[39m\u001b[39m\"\u001b[39m\n\u001b[0;32m    280\u001b[0m     )\n\u001b[1;32m--> 282\u001b[0m \u001b[39mreturn\u001b[39;00m io_open(file, \u001b[39m*\u001b[39;49margs, \u001b[39m*\u001b[39;49m\u001b[39m*\u001b[39;49mkwargs)\n",
            "\u001b[1;31mFileNotFoundError\u001b[0m: [Errno 2] No such file or directory: '/content/drive/MyDrive/DEV/digit_recognition/MNIST_dataset/t10k-labels.idx1-ubyte'"
          ]
        }
      ],
      "source": [
        "test_data = convert(test_labels, test_images,test_csv,TEST_SIZE)\n",
        "training_data = convert(training_labels,training_images,training_csv,TRAINING_SIZE)"
      ]
    },
    {
      "cell_type": "code",
      "execution_count": null,
      "metadata": {
        "colab": {
          "base_uri": "https://localhost:8080/",
          "height": 282
        },
        "id": "70_gBwYOYt1D",
        "outputId": "c90c0d27-af0a-4dd6-9152-3e6a15f01c8f"
      },
      "outputs": [
        {
          "data": {
            "text/plain": [
              "<matplotlib.image.AxesImage at 0x7fb7a5f6e940>"
            ]
          },
          "execution_count": 50,
          "metadata": {},
          "output_type": "execute_result"
        },
        {
          "data": {
            "image/png": "[encoded data removed]",
            "text/plain": [
              "<Figure size 432x288 with 1 Axes>"
            ]
          },
          "metadata": {
            "needs_background": "light"
          },
          "output_type": "display_data"
        }
      ],
      "source": [
        "plt.imshow(training_data[300][1], cmap=\"Greys\",interpolation=\"None\")"
      ]
    }
  ],
  "metadata": {
    "colab": {
      "authorship_tag": "ABX9TyNy0VNOmoTmpmhP+w/MDDh3",
      "collapsed_sections": [
        "1lcdz3NUK9I6"
      ],
      "include_colab_link": true,
      "mount_file_id": "1zai3TyWPBfcn237w7CXKXKCbbx9YDeeU",
      "provenance": [],
      "toc_visible": true
    },
    "kernelspec": {
      "display_name": "Python 3",
      "name": "python3"
    },
    "language_info": {
      "codemirror_mode": {
        "name": "ipython",
        "version": 3
      },
      "file_extension": ".py",
      "mimetype": "text/x-python",
      "name": "python",
      "nbconvert_exporter": "python",
      "pygments_lexer": "ipython3",
      "version": "3.11.2"
    }
  },
  "nbformat": 4,
  "nbformat_minor": 0
}
