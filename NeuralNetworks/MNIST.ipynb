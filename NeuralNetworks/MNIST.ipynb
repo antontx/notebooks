{
  "cells": [
    {
      "cell_type": "markdown",
      "metadata": {
        "colab_type": "text",
        "id": "view-in-github"
      },
      "source": [
        "<a href=\"https://colab.research.google.com/github/antontx/notebooks/blob/master/MNIST.ipynb\" target=\"_parent\"><img src=\"https://colab.research.google.com/assets/colab-badge.svg\" alt=\"Open In Colab\"/></a>"
      ]
    },
    {
      "cell_type": "markdown",
      "metadata": {
        "id": "EAMx0t5HvcvX"
      },
      "source": [
        "### Imports"
      ]
    },
    {
      "cell_type": "code",
      "execution_count": 9,
      "metadata": {
        "id": "hvl4bnU6ttQr"
      },
      "outputs": [],
      "source": [
        "import numpy as np\n",
        "import matplotlib.pyplot as plt\n",
        "%matplotlib inline \n",
        "import time\n",
        "from typing import List\n",
        "import pandas as pd\n",
        "from IPython.display import display, HTML"
      ]
    },
    {
      "cell_type": "markdown",
      "metadata": {
        "id": "1lcdz3NUK9I6"
      },
      "source": [
        "### reading the data\n",
        "_images: list of images in binary\n",
        "\n",
        "_labels: array of bytestrings that represent the numbers $0-9$\n",
        "\n",
        "- ```\n",
        "b'\\x03'\n",
        "```\n",
        "    - $b\"[..]\" →$ Bytestring\n",
        "    - $\\backslash x→$ escape sequence: following characters represent a __hexadecimal value__\n",
        "    - $03→$ hexadecimal notation of $3$"
      ]
    },
    {
      "cell_type": "code",
      "execution_count": 6,
      "metadata": {
        "id": "7C861Q8kvnLd"
      },
      "outputs": [],
      "source": [
        "training_images = \"MNIST_dataset/train-images.idx3-ubyte\"\n",
        "training_labels = \"MNIST_dataset/train-labels.idx1-ubyte\" \n",
        "training_csv = \"csv/training.csv\"\n",
        "TRAINING_SIZE = 60000\n",
        "\n",
        "test_images = \"MNIST_dataset/t10k-images.idx3-ubyte\"\n",
        "test_labels = \"MNIST_dataset/t10k-labels.idx1-ubyte\"\n",
        "test_csv = \"csv/testing.csv\"\n",
        "TEST_SIZE = 10000 "
      ]
    },
    {
      "cell_type": "markdown",
      "metadata": {
        "id": "ttyDvE2VMedL"
      },
      "source": [
        "### converting the data & saving/ caching it into csv"
      ]
    },
    {
      "cell_type": "code",
      "execution_count": 10,
      "metadata": {
        "id": "O-gBHb9mMkGd"
      },
      "outputs": [],
      "source": [
        "def convert(labels, images, csvf, size):\n",
        "  labelf = open(labels, \"rb\") #rb -> reading the file as binary\n",
        "  imgf = open(images, \"rb\")\n",
        "  csvf = open(csvf, \"w\")\n",
        "\n",
        "  #start locations of the actual data\n",
        "  labelf.read(8) \n",
        "  imgf.read(16)\n",
        "\n",
        "  n = 28\n",
        "\n",
        "  images = []\n",
        "  for i in range(size):\n",
        "    label = int.from_bytes(labelf.read(1),byteorder=\"big\")\n",
        "\n",
        "    pixels = np.zeros((n,n))\n",
        "    for row in range(n):\n",
        "      for column in range(n):\n",
        "        pixels[row][column] = int.from_bytes(imgf.read(1),byteorder=\"big\")\n",
        "        \n",
        "    \n",
        "    images.append([label,pixels])\n",
        "  \n",
        "  # for image in images:\n",
        "  #   image_string = \",\".join(str(value) for value in image[1])\n",
        "  #   csvf.write(f\"{str(image[0])},{image_string}\\n\")\n",
        "\n",
        "  labelf.close()\n",
        "  imgf.close()\n",
        "  csvf.close()\n",
        "\n",
        "  return images\n",
        "    \n"
      ]
    },
    {
      "cell_type": "code",
      "execution_count": 11,
      "metadata": {
        "id": "im-_CArLOZq1"
      },
      "outputs": [],
      "source": [
        "test_data = convert(test_labels, test_images,test_csv,TEST_SIZE)\n",
        "training_data = convert(training_labels,training_images,training_csv,TRAINING_SIZE)"
      ]
    },
    {
      "cell_type": "code",
      "execution_count": 12,
      "metadata": {
        "colab": {
          "base_uri": "https://localhost:8080/",
          "height": 282
        },
        "id": "70_gBwYOYt1D",
        "outputId": "c90c0d27-af0a-4dd6-9152-3e6a15f01c8f"
      },
      "outputs": [
        {
          "data": {
            "text/plain": [
              "<matplotlib.image.AxesImage at 0x168fff4aa50>"
            ]
          },
          "execution_count": 12,
          "metadata": {},
          "output_type": "execute_result"
        },
        {
          "data": {
            "image/png": "[encoded data removed]",
            "text/plain": [
              "<Figure size 640x480 with 1 Axes>"
            ]
          },
          "metadata": {},
          "output_type": "display_data"
        }
      ],
      "source": [
        "plt.imshow(training_data[300][1], cmap=\"Greys\",interpolation=\"None\")"
      ]
    }
  ],
  "metadata": {
    "colab": {
      "authorship_tag": "ABX9TyNy0VNOmoTmpmhP+w/MDDh3",
      "collapsed_sections": [
        "1lcdz3NUK9I6"
      ],
      "include_colab_link": true,
      "mount_file_id": "1zai3TyWPBfcn237w7CXKXKCbbx9YDeeU",
      "provenance": [],
      "toc_visible": true
    },
    "kernelspec": {
      "display_name": "Python 3",
      "name": "python3"
    },
    "language_info": {
      "codemirror_mode": {
        "name": "ipython",
        "version": 3
      },
      "file_extension": ".py",
      "mimetype": "text/x-python",
      "name": "python",
      "nbconvert_exporter": "python",
      "pygments_lexer": "ipython3",
      "version": "3.11.2"
    }
  },
  "nbformat": 4,
  "nbformat_minor": 0
}
