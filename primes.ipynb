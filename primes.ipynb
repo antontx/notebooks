{
  "cells": [
    {
      "attachments": {},
      "cell_type": "markdown",
      "metadata": {
        "id": "zs5iN9CGYl4I"
      },
      "source": [
        "### Imports"
      ]
    },
    {
      "cell_type": "code",
      "execution_count": 107,
      "metadata": {
        "id": "vF5DNnZWYMG-"
      },
      "outputs": [],
      "source": [
        "import math\n",
        "import matplotlib.pyplot as plt\n",
        "import time\n",
        "from statistics import mean\n",
        "from sympy import sqrt\n",
        "from IPython.display import display, Math\n",
        "from collections import defaultdict\n",
        "import json"
      ]
    },
    {
      "cell_type": "code",
      "execution_count": 135,
      "metadata": {},
      "outputs": [],
      "source": [
        "statistics = defaultdict(lambda: [])"
      ]
    },
    {
      "attachments": {},
      "cell_type": "markdown",
      "metadata": {
        "id": "3BAW2LqlYxVZ"
      },
      "source": [
        "### Methods"
      ]
    },
    {
      "cell_type": "code",
      "execution_count": 108,
      "metadata": {
        "id": "2gVS5Fo5YrvC"
      },
      "outputs": [],
      "source": [
        "def isPrimeSqrt(num):\n",
        "    for i in range(2,int(math.sqrt(num))-1):\n",
        "        if num % i == 0:\n",
        "            return False\n",
        "    return True\n",
        "\n",
        "def isPrime(num):\n",
        "    for i in range(2,num):\n",
        "        if num % i == 0:\n",
        "            return False\n",
        "    return True"
      ]
    },
    {
      "attachments": {},
      "cell_type": "markdown",
      "metadata": {
        "id": "eBsVBOAjY7pK"
      },
      "source": [
        "# Main"
      ]
    },
    {
      "attachments": {},
      "cell_type": "markdown",
      "metadata": {
        "id": "AxC3-M1TZJ5E"
      },
      "source": [
        "## Definitions"
      ]
    },
    {
      "cell_type": "code",
      "execution_count": 162,
      "metadata": {
        "id": "ermD0SKVY7Qh"
      },
      "outputs": [],
      "source": [
        "methods = [isPrime,isPrimeSqrt]\n",
        "dont_update = [isPrime]\n",
        "prime_number_amount = 19\n",
        "MAX_SECONDS = 100\n",
        "\n",
        "\n",
        "\n",
        "prime_numbers = [\n",
        "        11,\n",
        "        101,\n",
        "        1009,\n",
        "        10007,\n",
        "        100003,\n",
        "        1000003,\n",
        "        10000019,\n",
        "        100000007,\n",
        "        1000000007,\n",
        "        10000000019,\n",
        "        100000000003,\n",
        "        1000000000039,\n",
        "        10000000000037,\n",
        "        100000000000031,\n",
        "        1000000000000037,\n",
        "        10000000000000061,\n",
        "        100000000000000003,\n",
        "        1000000000000000003,\n",
        "        10000000000000000051,\n",
        "        100000000000000000039,\n",
        "        1000000000000000000117,\n",
        "        10000000000000000000009,\n",
        "        100000000000000000000117,\n",
        "        1000000000000000000000007,\n",
        "        10000000000000000000000013,\n",
        "        100000000000000000000000067,\n",
        "        1000000000000000000000000103,\n",
        "        10000000000000000000000000331,\n",
        "        100000000000000000000000000319]\n",
        "\n",
        "\n",
        "\n"
      ]
    },
    {
      "attachments": {},
      "cell_type": "markdown",
      "metadata": {
        "id": "A0Ygn9UlZose"
      },
      "source": [
        "## Processing"
      ]
    },
    {
      "cell_type": "code",
      "execution_count": 163,
      "metadata": {
        "colab": {
          "base_uri": "https://localhost:8080/",
          "height": 330
        },
        "id": "1FGTgtHmZoW-",
        "outputId": "cb05f752-50a9-4b9b-d589-9e22a8e4516e"
      },
      "outputs": [
        {
          "name": "stdout",
          "output_type": "stream",
          "text": [
            "[<function isPrime at 0x000001305A6D3100>, <function isPrimeSqrt at 0x000001305A6D32E0>]\n",
            "isPrime\n",
            "[0] 11:  0.00s\n",
            "[1] 101:  0.00s\n",
            "[2] 1009:  0.00s\n",
            "[3] 10007:  0.00s\n",
            "[4] 100003:  0.01s\n",
            "[5] 1000003:  0.06s\n",
            "[6] 10000019:  0.59s\n",
            "[7] 100000007:  6.19s\n",
            "[8] 1000000007:  55.46s\n",
            "[9] 10000000019:  1790.59s\n",
            "isPrimeSqrt\n",
            "[0] 11:  0.00s\n",
            "[1] 101:  0.00s\n",
            "[2] 1009:  0.00s\n",
            "[3] 10007:  0.00s\n",
            "[4] 100003:  0.00s\n",
            "[5] 1000003:  0.00s\n",
            "[6] 10000019:  0.00s\n",
            "[7] 100000007:  0.00s\n",
            "[8] 1000000007:  0.00s\n",
            "[9] 10000000019:  0.01s\n",
            "[10] 100000000003:  0.02s\n",
            "[11] 1000000000039:  0.06s\n",
            "[12] 10000000000037:  0.20s\n",
            "[13] 100000000000031:  0.64s\n",
            "[14] 1000000000000037:  2.04s\n",
            "[15] 10000000000000061:  6.48s\n",
            "[16] 100000000000000003:  20.47s\n",
            "[17] 1000000000000000003:  64.85s\n",
            "[18] 10000000000000000051:  552.75s\n"
          ]
        },
        {
          "data": {
            "text/plain": [
              "'execution time: 2500.42s'"
            ]
          },
          "execution_count": 163,
          "metadata": {},
          "output_type": "execute_result"
        }
      ],
      "source": [
        "update = list(set(methods)-set(dont_update))\n",
        "\n",
        "print(update)\n",
        "\n",
        "for method in update:\n",
        "  if method.__name__ in statistics:\n",
        "    del statistics[method.__name__]\n",
        "start_time = time.time()\n",
        "global_time = time.time()\n",
        "\n",
        "\n",
        "\n",
        "for prime_func in update:\n",
        "  print(prime_func.__name__)\n",
        "  statistics[prime_func.__name__].append([])\n",
        "  for i,number in enumerate(prime_numbers[:prime_number_amount]):\n",
        "    start_time = time.time()\n",
        "    prime_func(number)\n",
        "    t = round(time.time()-start_time,10)\n",
        "    statistics[prime_func.__name__][0].append(t)\n",
        "\n",
        "    print(f\"[{i}] {number}: {t: .2f}s\")\n",
        "\n",
        "    if t > MAX_SECONDS:\n",
        "      break\n",
        "\n",
        "  times = statistics[prime_func.__name__][0]\n",
        "  statistics[prime_func.__name__].append([])\n",
        "  for i in range(len(times)-1):\n",
        "    if times[i+1] > 0 and times[i] > 0:\n",
        "      statistics[prime_func.__name__][1].append(times[i+1]/times[i])\n",
        "\n",
        "\n",
        "f\"execution time: {round(time.time()-global_time,2)}s\"\n",
        "  "
      ]
    },
    {
      "cell_type": "code",
      "execution_count": 164,
      "metadata": {},
      "outputs": [
        {
          "name": "stdout",
          "output_type": "stream",
          "text": [
            "isPrime:\n",
            "[0.0, 0.0, 0.0, 0.0, 0.0060055256, 0.0600543022, 0.5915384293, 6.1896464825, 55.456479311, 1790.5907154083]\n",
            "[9.999841179596338, 9.850059156960782, 10.463642218181073, 8.959555197181652, 32.28821478851308]\n",
            "isPrimeSqrt:\n",
            "[0.0, 0.0, 0.0, 0.0, 0.0, 0.0, 0.0, 0.0010004044, 0.0020027161, 0.0060083866, 0.0210156441, 0.0640583038, 0.2001819611, 0.6400876045, 2.038674593, 6.4799647331, 20.4675841331, 64.8469727039, 552.7497508526]\n",
            "[2.0019065289996725, 3.000118988407793, 3.497718355872773, 3.0481246967824314, 3.124996280341722, 3.1975288931266244, 3.184993083239749, 3.1785184135563513, 3.1585949887274087, 3.1682768362989178, 8.523909872809787]\n"
          ]
        }
      ],
      "source": [
        "for key, sublists in statistics.items():\n",
        "    print(f'{key}:')\n",
        "    for sublist in sublists:\n",
        "        print(sublist)"
      ]
    },
    {
      "attachments": {},
      "cell_type": "markdown",
      "metadata": {
        "id": "fjOJFvnbc6Xk"
      },
      "source": [
        "## Visualization"
      ]
    },
    {
      "cell_type": "code",
      "execution_count": 165,
      "metadata": {
        "colab": {
          "base_uri": "https://localhost:8080/",
          "height": 333
        },
        "id": "KpKuXMnHc7-2",
        "outputId": "50cda997-b631-438d-d024-53765e9452ee"
      },
      "outputs": [
        {
          "data": {
            "image/png": "[encoded data removed]",
            "text/plain": [
              "<Figure size 640x480 with 2 Axes>"
            ]
          },
          "metadata": {},
          "output_type": "display_data"
        },
        {
          "name": "stdout",
          "output_type": "stream",
          "text": [
            "\n"
          ]
        },
        {
          "data": {
            "text/latex": [
              "$\\displaystyle \\sqrt{10} = 3.1623$"
            ],
            "text/plain": [
              "<IPython.core.display.Math object>"
            ]
          },
          "metadata": {},
          "output_type": "display_data"
        }
      ],
      "source": [
        "fig,a = plt.subplots(2)\n",
        "\n",
        "\n",
        "for method_name, values in statistics.items():\n",
        "    a[1].plot(values[0])\n",
        "    lines = a[0].plot(values[1])\n",
        "\n",
        "    fac = mean(values[1][1:])\n",
        "    a[0].axhline(fac,color=lines[0].get_color(),label=f\"{method_name} - Wachstumsfaktor: {round(fac, 2)} \\u00F8\")\n",
        "\n",
        "\n",
        "a[1].set_title(f\"Laufzeiten - erste {prime_number_amount}\")\n",
        "a[1].set_ylabel(\"Sekunden\")\n",
        "\n",
        "\n",
        "a[0].set_title(f\"Wachstumsfaktor\")\n",
        "\n",
        "\n",
        "\n",
        "fig.tight_layout(rect=[0, 0, 1.5, 0.9])\n",
        "fig.legend()\n",
        "\n",
        "\n",
        "plt.show()\n",
        "\n",
        "print()\n",
        "display(Math(r'\\sqrt{10} = ' + f'{sqrt(10).evalf():.4f}'))\n"
      ]
    }
  ],
  "metadata": {
    "colab": {
      "provenance": []
    },
    "kernelspec": {
      "display_name": "Python 3",
      "language": "python",
      "name": "python3"
    },
    "language_info": {
      "codemirror_mode": {
        "name": "ipython",
        "version": 3
      },
      "file_extension": ".py",
      "mimetype": "text/x-python",
      "name": "python",
      "nbconvert_exporter": "python",
      "pygments_lexer": "ipython3",
      "version": "3.11.2"
    },
    "vscode": {
      "interpreter": {
        "hash": "4c4be4b0a982abe15a84f84ed15256d74d5df9fda6575ef418b89b512d5d5a1b"
      }
    }
  },
  "nbformat": 4,
  "nbformat_minor": 0
}
