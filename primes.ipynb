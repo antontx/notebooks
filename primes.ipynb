{
  "cells": [
    {
      "attachments": {},
      "cell_type": "markdown",
      "metadata": {
        "id": "zs5iN9CGYl4I"
      },
      "source": [
        "### Imports"
      ]
    },
    {
      "cell_type": "code",
      "execution_count": 1,
      "metadata": {
        "id": "vF5DNnZWYMG-"
      },
      "outputs": [],
      "source": [
        "import math\n",
        "import matplotlib.pyplot as plt\n",
        "import time\n",
        "from statistics import mean\n",
        "from sympy import sqrt\n",
        "from IPython.display import display, Math\n",
        "from collections import defaultdict"
      ]
    },
    {
      "cell_type": "code",
      "execution_count": 2,
      "metadata": {},
      "outputs": [],
      "source": [
        "statistics = defaultdict(lambda: [])"
      ]
    },
    {
      "attachments": {},
      "cell_type": "markdown",
      "metadata": {
        "id": "3BAW2LqlYxVZ"
      },
      "source": [
        "### Methods"
      ]
    },
    {
      "cell_type": "code",
      "execution_count": 3,
      "metadata": {
        "id": "2gVS5Fo5YrvC"
      },
      "outputs": [],
      "source": [
        "def isPrimeSqrt(num):\n",
        "    for i in range(2,int(math.sqrt(num))-1):\n",
        "        if num % i == 0:\n",
        "            return False\n",
        "    return True\n",
        "\n",
        "def isPrime(num):\n",
        "    for i in range(2,num):\n",
        "        if num % i == 0:\n",
        "            return False\n",
        "    return True"
      ]
    },
    {
      "attachments": {},
      "cell_type": "markdown",
      "metadata": {
        "id": "eBsVBOAjY7pK"
      },
      "source": [
        "# Main"
      ]
    },
    {
      "attachments": {},
      "cell_type": "markdown",
      "metadata": {
        "id": "AxC3-M1TZJ5E"
      },
      "source": [
        "## Definitions"
      ]
    },
    {
      "cell_type": "code",
      "execution_count": 4,
      "metadata": {
        "id": "ermD0SKVY7Qh"
      },
      "outputs": [],
      "source": [
        "methods = [isPrime,isPrimeSqrt]\n",
        "dont_update = []\n",
        "prime_number_amount = 19\n",
        "MAX_SECONDS = 300\n",
        "\n",
        "\n",
        "\n",
        "prime_numbers = [\n",
        "        11,\n",
        "        101,\n",
        "        1009,\n",
        "        10007,\n",
        "        100003,\n",
        "        1000003,\n",
        "        10000019,\n",
        "        100000007,\n",
        "        1000000007,\n",
        "        10000000019,\n",
        "        100000000003,\n",
        "        1000000000039,\n",
        "        10000000000037,\n",
        "        100000000000031,\n",
        "        1000000000000037,\n",
        "        10000000000000061,\n",
        "        100000000000000003,\n",
        "        1000000000000000003,\n",
        "        10000000000000000051,\n",
        "        100000000000000000039,\n",
        "        1000000000000000000117,\n",
        "        10000000000000000000009,\n",
        "        100000000000000000000117,\n",
        "        1000000000000000000000007,\n",
        "        10000000000000000000000013,\n",
        "        100000000000000000000000067,\n",
        "        1000000000000000000000000103,\n",
        "        10000000000000000000000000331,\n",
        "        100000000000000000000000000319]\n",
        "\n",
        "\n",
        "\n"
      ]
    },
    {
      "attachments": {},
      "cell_type": "markdown",
      "metadata": {
        "id": "A0Ygn9UlZose"
      },
      "source": [
        "## Processing"
      ]
    },
    {
      "cell_type": "code",
      "execution_count": 5,
      "metadata": {
        "colab": {
          "base_uri": "https://localhost:8080/",
          "height": 330
        },
        "id": "1FGTgtHmZoW-",
        "outputId": "cb05f752-50a9-4b9b-d589-9e22a8e4516e"
      },
      "outputs": [
        {
          "name": "stdout",
          "output_type": "stream",
          "text": [
            "[<function isPrimeSqrt at 0x0000024AAE343BA0>, <function isPrime at 0x0000024AAE3439C0>]\n",
            "isPrimeSqrt\n",
            "[0] 11:  0.00s\n",
            "[1] 101:  0.00s\n",
            "[2] 1009:  0.00s\n",
            "[3] 10007:  0.00s\n",
            "[4] 100003:  0.00s\n",
            "[5] 1000003:  0.00s\n",
            "[6] 10000019:  0.00s\n",
            "[7] 100000007:  0.00s\n",
            "[8] 1000000007:  0.00s\n",
            "[9] 10000000019:  0.01s\n",
            "[10] 100000000003:  0.02s\n",
            "[11] 1000000000039:  0.06s\n",
            "[12] 10000000000037:  0.18s\n",
            "[13] 100000000000031:  0.58s\n",
            "[14] 1000000000000037:  1.81s\n",
            "[15] 10000000000000061:  5.78s\n",
            "[16] 100000000000000003:  18.12s\n",
            "[17] 1000000000000000003:  58.19s\n",
            "[18] 10000000000000000051:  546.99s\n",
            "isPrime\n",
            "[0] 11:  0.00s\n",
            "[1] 101:  0.00s\n",
            "[2] 1009:  0.00s\n",
            "[3] 10007:  0.00s\n",
            "[4] 100003:  0.01s\n",
            "[5] 1000003:  0.05s\n",
            "[6] 10000019:  0.53s\n",
            "[7] 100000007:  5.15s\n",
            "[8] 1000000007:  54.45s\n",
            "[9] 10000000019:  1730.70s\n"
          ]
        },
        {
          "data": {
            "text/plain": [
              "'execution time: 2422.62s'"
            ]
          },
          "execution_count": 5,
          "metadata": {},
          "output_type": "execute_result"
        }
      ],
      "source": [
        "update = list(set(methods)-set(dont_update))\n",
        "\n",
        "print(update)\n",
        "\n",
        "for method in update:\n",
        "  if method.__name__ in statistics:\n",
        "    del statistics[method.__name__]\n",
        "start_time = time.time()\n",
        "global_time = time.time()\n",
        "\n",
        "\n",
        "\n",
        "for prime_func in update:\n",
        "  print(prime_func.__name__)\n",
        "  statistics[prime_func.__name__].append([])\n",
        "  for i,number in enumerate(prime_numbers[:prime_number_amount]):\n",
        "    start_time = time.time()\n",
        "    prime_func(number)\n",
        "    t = round(time.time()-start_time,10)\n",
        "    statistics[prime_func.__name__][0].append(t)\n",
        "\n",
        "    print(f\"[{i}] {number}: {t: .2f}s\")\n",
        "\n",
        "    if t > MAX_SECONDS:\n",
        "      break\n",
        "\n",
        "  times = statistics[prime_func.__name__][0]\n",
        "  statistics[prime_func.__name__].append([])\n",
        "  for i in range(len(times)-1):\n",
        "    if times[i+1] > 0 and times[i] > 0:\n",
        "      statistics[prime_func.__name__][1].append(times[i+1]/times[i])\n",
        "\n",
        "\n",
        "f\"execution time: {round(time.time()-global_time,2)}s\"\n",
        "  "
      ]
    },
    {
      "cell_type": "code",
      "execution_count": 8,
      "metadata": {},
      "outputs": [
        {
          "name": "stdout",
          "output_type": "stream",
          "text": [
            "isPrimeSqrt:\n",
            "[0.0, 0.0, 0.0, 0.0, 0.0, 0.0, 0.0, 0.0010006428, 0.0010008812, 0.006005764, 0.0180163383, 0.062056303, 0.1791627407, 0.5775256157, 1.8071789742, 5.7803480625, 18.118298769, 58.1910376549, 546.9903864861]\n",
            "[1.0002382468549216, 6.000476380213756, 2.9998412025514156, 3.444445922732257, 2.8870998116017317, 3.2234694191636692, 3.1291754427369893, 3.1985476507985813, 3.1344650137147343, 3.2117274583452367, 9.39990776122619]\n",
            "isPrime:\n",
            "[0.0, 0.0, 0.0, 0.0010006428, 0.0050046444, 0.0510463715, 0.5284891129, 5.1532075405, 54.4520711899, 1730.7007946968]\n",
            "[5.00142948112953, 10.19979990985973, 10.353118103605071, 9.750830082804532, 10.566636558289419, 31.783929552670855]\n"
          ]
        }
      ],
      "source": [
        "for key, sublists in statistics.items():\n",
        "    print(f'{key}:')\n",
        "    for sublist in sublists:\n",
        "        print(sublist)"
      ]
    },
    {
      "attachments": {},
      "cell_type": "markdown",
      "metadata": {
        "id": "fjOJFvnbc6Xk"
      },
      "source": [
        "## Visualization"
      ]
    },
    {
      "cell_type": "code",
      "execution_count": 19,
      "metadata": {
        "colab": {
          "base_uri": "https://localhost:8080/",
          "height": 333
        },
        "id": "KpKuXMnHc7-2",
        "outputId": "50cda997-b631-438d-d024-53765e9452ee"
      },
      "outputs": [
        {
          "data": {
            "image/png": "[encoded data removed]",
            "text/plain": [
              "<Figure size 640x480 with 4 Axes>"
            ]
          },
          "metadata": {},
          "output_type": "display_data"
        },
        {
          "name": "stdout",
          "output_type": "stream",
          "text": [
            "\n"
          ]
        },
        {
          "data": {
            "text/latex": [
              "$\\displaystyle \\sqrt{10} = 3.1623$"
            ],
            "text/plain": [
              "<IPython.core.display.Math object>"
            ]
          },
          "metadata": {},
          "output_type": "display_data"
        }
      ],
      "source": [
        "fig,a = plt.subplots(2,max(len(methods),2))\n",
        "\n",
        "\n",
        "for method_name, values in statistics.items():\n",
        "\n",
        "    x_values = [2+ i for i in range(len(values[0]))]\n",
        "\n",
        "\n",
        "    a[0][1].plot(x_values,values[0])\n",
        "    lines = a[0][0].plot(x_values[:len(values[1])],values[1])\n",
        "\n",
        "    fac = mean(values[1])\n",
        "    a[0][0].axhline(fac,color=lines[0].get_color(),label=f\"{method_name} - Wachstumsfaktor: {round(fac, 2)} \\u00F8\")\n",
        "\n",
        "    i = list(statistics.keys()).index(method_name)\n",
        "    a[1][i].plot(x_values,values[0], color=\"mediumpurple\")\n",
        "    a[1][i].set_title(method_name)\n",
        "\n",
        "\n",
        "\n",
        "a[0][1].set_title(f\"all\")\n",
        "\n",
        "\n",
        "a[0][0].set_title(f\"Wachstumsfaktor\")\n",
        "\n",
        "\n",
        "fig.supxlabel('Stellen')\n",
        "fig.supylabel('Sekunden')\n",
        "fig.tight_layout(rect=[0, 0, 1.5, 0.9])\n",
        "fig.legend()\n",
        "\n",
        "\n",
        "plt.show()\n",
        "\n",
        "print()\n",
        "display(Math(r'\\sqrt{10} = ' + f'{sqrt(10).evalf():.4f}'))\n"
      ]
    }
  ],
  "metadata": {
    "colab": {
      "provenance": []
    },
    "kernelspec": {
      "display_name": "Python 3",
      "language": "python",
      "name": "python3"
    },
    "language_info": {
      "codemirror_mode": {
        "name": "ipython",
        "version": 3
      },
      "file_extension": ".py",
      "mimetype": "text/x-python",
      "name": "python",
      "nbconvert_exporter": "python",
      "pygments_lexer": "ipython3",
      "version": "3.11.2"
    },
    "vscode": {
      "interpreter": {
        "hash": "4c4be4b0a982abe15a84f84ed15256d74d5df9fda6575ef418b89b512d5d5a1b"
      }
    }
  },
  "nbformat": 4,
  "nbformat_minor": 0
}
